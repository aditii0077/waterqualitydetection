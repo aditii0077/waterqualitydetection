{
  "cells": [
    {
      "cell_type": "markdown",
      "metadata": {
        "id": "view-in-github",
        "colab_type": "text"
      },
      "source": [
        "<a href=\"https://colab.research.google.com/github/aditii0077/waterqualitydetection/blob/main/waterquality.ipynb\" target=\"_parent\"><img src=\"https://colab.research.google.com/assets/colab-badge.svg\" alt=\"Open In Colab\"/></a>"
      ]
    },
    {
      "cell_type": "code",
      "source": [
        "!pip install pandas numpy scikit-learn joblib streamlit fpdf sqlite3 seaborn matplotlib pyngrok\n"
      ],
      "metadata": {
        "colab": {
          "base_uri": "https://localhost:8080/"
        },
        "id": "Que8Fj9vtoR2",
        "outputId": "029e0f30-b4d4-4315-8877-192c9f1d2a7a"
      },
      "execution_count": 8,
      "outputs": [
        {
          "output_type": "stream",
          "name": "stdout",
          "text": [
            "Requirement already satisfied: pandas in /usr/local/lib/python3.11/dist-packages (2.2.2)\n",
            "Requirement already satisfied: numpy in /usr/local/lib/python3.11/dist-packages (1.26.4)\n",
            "Requirement already satisfied: scikit-learn in /usr/local/lib/python3.11/dist-packages (1.6.1)\n",
            "Requirement already satisfied: joblib in /usr/local/lib/python3.11/dist-packages (1.4.2)\n",
            "Requirement already satisfied: streamlit in /usr/local/lib/python3.11/dist-packages (1.42.2)\n",
            "Requirement already satisfied: fpdf in /usr/local/lib/python3.11/dist-packages (1.7.2)\n",
            "\u001b[31mERROR: Could not find a version that satisfies the requirement sqlite3 (from versions: none)\u001b[0m\u001b[31m\n",
            "\u001b[0m\u001b[31mERROR: No matching distribution found for sqlite3\u001b[0m\u001b[31m\n",
            "\u001b[0m"
          ]
        }
      ]
    },
    {
      "cell_type": "code",
      "source": [
        "import pandas as pd\n",
        "import numpy as np\n",
        "import joblib\n",
        "import sqlite3\n",
        "from sklearn.model_selection import train_test_split\n",
        "from sklearn.preprocessing import StandardScaler\n",
        "from sklearn.ensemble import RandomForestClassifier\n",
        "from sklearn.metrics import accuracy_score\n",
        "\n",
        "# Load dataset (replace with your actual dataset)\n",
        "df = pd.read_csv(\"water_potability.csv\")  # Ensure you have this dataset in Colab\n",
        "\n",
        "# Handling missing values\n",
        "df.fillna(df.mean(), inplace=True)\n",
        "\n",
        "# Define features and target\n",
        "X = df.drop(columns=[\"Potability\"])  # Features\n",
        "y = df[\"Potability\"]  # Target (1 = Pure, 0 = Impure)\n",
        "\n",
        "# Train-Test Split\n",
        "X_train, X_test, y_train, y_test = train_test_split(X, y, test_size=0.2, random_state=42)\n",
        "\n",
        "# Feature Scaling\n",
        "scaler = StandardScaler()\n",
        "X_train_scaled = scaler.fit_transform(X_train)\n",
        "X_test_scaled = scaler.transform(X_test)\n",
        "\n",
        "# Train Random Forest Classifier\n",
        "model = RandomForestClassifier(n_estimators=100, random_state=42)\n",
        "model.fit(X_train_scaled, y_train)\n",
        "\n",
        "# Model Accuracy\n",
        "y_pred = model.predict(X_test_scaled)\n",
        "accuracy = accuracy_score(y_test, y_pred)\n",
        "print(f\"Model Accuracy: {accuracy:.2f}\")\n",
        "\n",
        "# Save the Model and Scaler\n",
        "joblib.dump(model, \"water_purity_model.pkl\")\n",
        "joblib.dump(scaler, \"scaler.pkl\")\n",
        "\n",
        "print(\"Model and Scaler saved successfully!\")\n",
        "\n"
      ],
      "metadata": {
        "id": "n3cKXVTtvZNn",
        "colab": {
          "base_uri": "https://localhost:8080/"
        },
        "outputId": "6b0a424a-15bd-40ac-c581-4ff040d51023"
      },
      "execution_count": 9,
      "outputs": [
        {
          "output_type": "stream",
          "name": "stdout",
          "text": [
            "Model Accuracy: 0.68\n",
            "Model and Scaler saved successfully!\n"
          ]
        }
      ]
    },
    {
      "cell_type": "code",
      "source": [
        "# Create SQLite Database\n",
        "conn = sqlite3.connect(\"water_purity.db\")\n",
        "cursor = conn.cursor()\n",
        "\n",
        "# Create Table for storing predictions\n",
        "cursor.execute('''\n",
        "    CREATE TABLE IF NOT EXISTS predictions (\n",
        "        id INTEGER PRIMARY KEY AUTOINCREMENT,\n",
        "        pH REAL,\n",
        "        Hardness REAL,\n",
        "        Solids REAL,\n",
        "        Chloramines REAL,\n",
        "        Sulfate REAL,\n",
        "        Conductivity REAL,\n",
        "        OrganicCarbon REAL,\n",
        "        Trihalomethanes REAL,\n",
        "        Turbidity REAL,\n",
        "        Prediction TEXT\n",
        "    )\n",
        "''')\n",
        "\n",
        "conn.commit()\n",
        "conn.close()\n",
        "print(\"Database setup completed.\")\n"
      ],
      "metadata": {
        "colab": {
          "base_uri": "https://localhost:8080/"
        },
        "id": "zc2FiNlpv1-s",
        "outputId": "0c1f5bee-9ce6-4053-b43e-99b10cfb50ce"
      },
      "execution_count": 10,
      "outputs": [
        {
          "output_type": "stream",
          "name": "stdout",
          "text": [
            "Database setup completed.\n"
          ]
        }
      ]
    },
    {
      "cell_type": "code",
      "source": [
        "%%writefile app.py\n",
        "\n",
        "import streamlit as st\n",
        "import pandas as pd\n",
        "import numpy as np\n",
        "import joblib\n",
        "import sqlite3\n",
        "from fpdf import FPDF\n",
        "from PIL import Image\n",
        "import io\n",
        "\n",
        "# Load Model & Scaler\n",
        "def load_model():\n",
        "    model = joblib.load(\"water_purity_model.pkl\")\n",
        "    scaler = joblib.load(\"scaler.pkl\")\n",
        "    return model, scaler\n",
        "\n",
        "model, scaler = load_model()\n",
        "\n",
        "# Function to Predict Water Purity\n",
        "def predict_purity(features):\n",
        "    features_scaled = scaler.transform([features])  # Apply same scaling as training\n",
        "    prediction = model.predict(features_scaled)\n",
        "    return \"Pure\" if prediction[0] == 1 else \"Impure\"\n",
        "\n",
        "# Function to Store Prediction in Database\n",
        "def store_prediction(features, result):\n",
        "    conn = sqlite3.connect(\"water_purity.db\")\n",
        "    cursor = conn.cursor()\n",
        "\n",
        "    cursor.execute('''\n",
        "        INSERT INTO predictions (pH, Hardness, Solids, Chloramines, Sulfate, Conductivity, OrganicCarbon, Trihalomethanes, Turbidity, Prediction)\n",
        "        VALUES (?, ?, ?, ?, ?, ?, ?, ?, ?, ?)\n",
        "    ''', (*features, result))\n",
        "\n",
        "    conn.commit()\n",
        "    conn.close()\n",
        "\n",
        "# Generate PDF Report\n",
        "def generate_report(result, features):\n",
        "    pdf = FPDF()\n",
        "    pdf.add_page()\n",
        "    pdf.set_font(\"Arial\", size=12)\n",
        "    pdf.cell(200, 10, txt=\"Water Purity Analysis Report\", ln=True, align='C')\n",
        "    pdf.ln(10)\n",
        "    pdf.cell(200, 10, txt=f\"Prediction: {result}\", ln=True)\n",
        "    pdf.ln(10)\n",
        "\n",
        "    params = [\"pH\", \"Hardness\", \"Solids\", \"Chloramines\", \"Sulfate\", \"Conductivity\", \"Organic Carbon\", \"Trihalomethanes\", \"Turbidity\"]\n",
        "    for param, value in zip(params, features):\n",
        "        pdf.cell(200, 10, txt=f\"{param}: {value}\", ln=True)\n",
        "\n",
        "    pdf_output = io.BytesIO()\n",
        "    pdf.output(pdf_output)\n",
        "    pdf_output.seek(0)\n",
        "    return pdf_output\n",
        "\n",
        "# Streamlit UI\n",
        "st.set_page_config(page_title=\"Water Purity Assessment\", layout=\"wide\")\n",
        "st.title(\"💧 Water Purity Assessment\")\n",
        "st.markdown(\"### Check the purity of water using Machine Learning\")\n",
        "\n",
        "# Sidebar Inputs\n",
        "st.sidebar.header(\"Input Water Parameters\")\n",
        "pH = st.sidebar.slider(\"pH Level\", 0.0, 14.0, 7.0)\n",
        "Hardness = st.sidebar.slider(\"Hardness\", 0, 300, 150)\n",
        "Solids = st.sidebar.slider(\"Solids (ppm)\", 0, 50000, 20000)\n",
        "Chloramines = st.sidebar.slider(\"Chloramines\", 0.0, 15.0, 7.0)\n",
        "Sulfate = st.sidebar.slider(\"Sulfate\", 0.0, 500.0, 250.0)\n",
        "Conductivity = st.sidebar.slider(\"Conductivity\", 0.0, 1000.0, 500.0)\n",
        "Organic_carbon = st.sidebar.slider(\"Organic Carbon\", 0.0, 30.0, 15.0)\n",
        "Trihalomethanes = st.sidebar.slider(\"Trihalomethanes\", 0.0, 120.0, 60.0)\n",
        "Turbidity = st.sidebar.slider(\"Turbidity\", 0.0, 10.0, 5.0)\n",
        "\n",
        "if st.sidebar.button(\"Check Purity\"):\n",
        "    features = [pH, Hardness, Solids, Chloramines, Sulfate, Conductivity, Organic_carbon, Trihalomethanes, Turbidity]\n",
        "    result = predict_purity(features)\n",
        "\n",
        "    # Store in database\n",
        "    store_prediction(features, result)\n",
        "\n",
        "    st.subheader(f\"Water is **{result}**\")\n",
        "    pdf = generate_report(result, features)\n",
        "    st.download_button(label=\"Download Report\", data=pdf, file_name=\"Water_Purity_Report.pdf\", mime=\"application/pdf\")\n",
        "\n"
      ],
      "metadata": {
        "colab": {
          "base_uri": "https://localhost:8080/"
        },
        "id": "R1fwlYzFv5vM",
        "outputId": "f0b6edeb-f14f-44e5-812b-c37b223bec69"
      },
      "execution_count": 11,
      "outputs": [
        {
          "output_type": "stream",
          "name": "stdout",
          "text": [
            "Writing app.py\n"
          ]
        }
      ]
    },
    {
      "cell_type": "code",
      "source": [
        "!pip install pyngrok\n",
        "from pyngrok import ngrok\n",
        "!streamlit run app.py &\n",
        "\n",
        "# Create ngrok tunnel\n",
        "public_url = ngrok.connect(port=8501)\n",
        "print(\"Public URL:\", public_url)\n"
      ],
      "metadata": {
        "colab": {
          "base_uri": "https://localhost:8080/"
        },
        "id": "-aJrBvc_v8i5",
        "outputId": "880fbd30-a172-464a-c860-7f51f56954dc"
      },
      "execution_count": null,
      "outputs": [
        {
          "output_type": "stream",
          "name": "stdout",
          "text": [
            "Requirement already satisfied: pyngrok in /usr/local/lib/python3.11/dist-packages (7.2.3)\n",
            "Requirement already satisfied: PyYAML>=5.1 in /usr/local/lib/python3.11/dist-packages (from pyngrok) (6.0.2)\n",
            "\n",
            "Collecting usage statistics. To deactivate, set browser.gatherUsageStats to false.\n",
            "\u001b[0m\n",
            "\u001b[0m\n",
            "\u001b[34m\u001b[1m  You can now view your Streamlit app in your browser.\u001b[0m\n",
            "\u001b[0m\n",
            "\u001b[34m  Local URL: \u001b[0m\u001b[1mhttp://localhost:8503\u001b[0m\n",
            "\u001b[34m  Network URL: \u001b[0m\u001b[1mhttp://172.28.0.12:8503\u001b[0m\n",
            "\u001b[34m  External URL: \u001b[0m\u001b[1mhttp://34.105.123.57:8503\u001b[0m\n",
            "\u001b[0m\n"
          ]
        }
      ]
    },
    {
      "cell_type": "code",
      "source": [],
      "metadata": {
        "id": "76mjElDvv-4-"
      },
      "execution_count": null,
      "outputs": []
    }
  ],
  "metadata": {
    "colab": {
      "provenance": [],
      "mount_file_id": "1CMQl2cSSTFOPZP1T2R-ONH8QY76DhkHo",
      "authorship_tag": "ABX9TyPa3+ow0CGd47C6YKJyIRpW",
      "include_colab_link": true
    },
    "kernelspec": {
      "display_name": "Python 3",
      "name": "python3"
    },
    "language_info": {
      "name": "python"
    }
  },
  "nbformat": 4,
  "nbformat_minor": 0
}